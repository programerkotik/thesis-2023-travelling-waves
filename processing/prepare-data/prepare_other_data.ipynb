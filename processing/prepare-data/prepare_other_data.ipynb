{
 "cells": [
  {
   "cell_type": "code",
   "execution_count": 1,
   "metadata": {},
   "outputs": [],
   "source": [
    "# Import modules\n",
    "import sys\n",
    "import os\n",
    "import logging\n",
    "from pathlib import Path\n",
    "import numpy as np\n",
    "import quantities as pq\n",
    "import yaml"
   ]
  },
  {
   "cell_type": "code",
   "execution_count": 2,
   "metadata": {},
   "outputs": [
    {
     "name": "stderr",
     "output_type": "stream",
     "text": [
      "2023-06-15 14:07:16,339 - INFO - Current file directory: /Users/septentrionalem/Desktop/study/thesis_2023_travelling_waves/processing/prepare-data\n",
      "2023-06-15 14:07:16,339 - INFO - Current project directory: /Users/septentrionalem/Desktop/study/thesis_2023_travelling_waves\n"
     ]
    }
   ],
   "source": [
    "# Set up file paths\n",
    "file_path = str(Path().absolute())\n",
    "project_path = str(Path().absolute().parent.parent)\n",
    "data_name = 'c2_06.spont'\n",
    "\n",
    "# Set up logging\n",
    "logging.basicConfig(level=logging.INFO, format='%(asctime)s - %(levelname)s - %(message)s')\n",
    "\n",
    "# Log file path\n",
    "logging.info(f\"Current file directory: {file_path}\")\n",
    "logging.info(f\"Current project directory: {project_path}\")\n"
   ]
  },
  {
   "cell_type": "code",
   "execution_count": 3,
   "metadata": {},
   "outputs": [],
   "source": [
    "# Change working directory to project path; this is done to make sure we can import custom modules and load data that lay upstream in the directory structure (i.e. in the src/ and raw/ directories)\n",
    "os.chdir(project_path)\n",
    "sys.path.append(project_path)\n",
    "\n",
    "# Import custom modules\n",
    "from src.loaders import load_ibw_data, process_data"
   ]
  },
  {
   "cell_type": "code",
   "execution_count": 4,
   "metadata": {},
   "outputs": [
    {
     "name": "stdout",
     "output_type": "stream",
     "text": [
      "Loading: /Users/septentrionalem/Desktop/study/thesis_2023_travelling_waves/data/raw/c2_06.spont/Probe1_lfps_spont.ibw\n",
      "1000.0 Hz\n",
      "Loading: /Users/septentrionalem/Desktop/study/thesis_2023_travelling_waves/data/raw/c2_06.spont/Probe2_lfps_spont.ibw\n",
      "1000.0 Hz\n"
     ]
    }
   ],
   "source": [
    "ts_filtered_probe1, times = process_data([f\"{project_path}/data/raw/{data_name}/Probe1_lfps_spont.ibw\"], 'ibw', fs=1000. * pq.Hz, electrode='probe1', plot=False)\n",
    "ts_filtered_probe1 = np.squeeze(ts_filtered_probe1)\n",
    "\n",
    "ts_filtered_probe2, times = process_data([f\"{project_path}/data/raw/{data_name}/Probe2_lfps_spont.ibw\"], 'ibw', fs=1000. * pq.Hz, electrode='probe2', plot=False)\n",
    "ts_filtered_probe2 = np.squeeze(ts_filtered_probe2)"
   ]
  },
  {
   "cell_type": "code",
   "execution_count": 5,
   "metadata": {},
   "outputs": [
    {
     "name": "stderr",
     "output_type": "stream",
     "text": [
      "2023-06-15 14:07:18,902 - INFO - Data saved in /Users/septentrionalem/Desktop/study/thesis_2023_travelling_waves/data/processed/c2_06.spont/1kHz\n"
     ]
    }
   ],
   "source": [
    "sr = 1000\n",
    "output_dir = f\"{project_path}/data/processed/{data_name}/{int(sr/1000)}kHz\"\n",
    "\n",
    "# create output directory if it does not exist\n",
    "os.makedirs(output_dir, exist_ok=True)\n",
    "\n",
    "# Save data\n",
    "np.save(f\"{output_dir}/ts_filtered_probe1.npy\", ts_filtered_probe1)\n",
    "np.save(f\"{output_dir}/ts_filtered_probe2.npy\", ts_filtered_probe2)\n",
    "\n",
    "np.save(f\"{output_dir}/times.npy\", times)\n",
    "\n",
    "logging.info(f\"Data saved in {output_dir}\")"
   ]
  },
  {
   "cell_type": "code",
   "execution_count": null,
   "metadata": {},
   "outputs": [],
   "source": []
  }
 ],
 "metadata": {
  "kernelspec": {
   "display_name": "neuro",
   "language": "python",
   "name": "python3"
  },
  "language_info": {
   "codemirror_mode": {
    "name": "ipython",
    "version": 3
   },
   "file_extension": ".py",
   "mimetype": "text/x-python",
   "name": "python",
   "nbconvert_exporter": "python",
   "pygments_lexer": "ipython3",
   "version": "3.9.15"
  },
  "orig_nbformat": 4
 },
 "nbformat": 4,
 "nbformat_minor": 2
}
